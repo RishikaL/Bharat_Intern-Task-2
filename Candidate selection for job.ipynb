{
 "cells": [
  {
   "cell_type": "code",
   "execution_count": 1,
   "id": "e9f028d2",
   "metadata": {},
   "outputs": [],
   "source": [
    "import nltk"
   ]
  },
  {
   "cell_type": "code",
   "execution_count": 2,
   "id": "39eeab34",
   "metadata": {},
   "outputs": [
    {
     "name": "stdout",
     "output_type": "stream",
     "text": [
      "Requirement already satisfied: sklearn in c:\\users\\rishika\\anaconda3\\lib\\site-packages (0.0.post5)\n"
     ]
    }
   ],
   "source": [
    "!pip install sklearn"
   ]
  },
  {
   "cell_type": "code",
   "execution_count": 3,
   "id": "80775f7d",
   "metadata": {},
   "outputs": [
    {
     "name": "stdout",
     "output_type": "stream",
     "text": [
      "Best candidate:  I have excellent programming and communication skills.\n"
     ]
    }
   ],
   "source": [
    "import nltk\n",
    "from nltk.corpus import stopwords\n",
    "from nltk.tokenize import word_tokenize\n",
    "from nltk.stem import WordNetLemmatizer\n",
    "from sklearn.feature_extraction.text import TfidfVectorizer\n",
    "\n",
    "def preprocess_text(text):\n",
    "    # Tokenize the text\n",
    "    tokens = word_tokenize(text.lower())\n",
    "\n",
    "    # Remove stopwords\n",
    "    stop_words = set(stopwords.words(\"english\"))\n",
    "    tokens = [token for token in tokens if token not in stop_words]\n",
    "\n",
    "    # Lemmatize the tokens\n",
    "    lemmatizer = WordNetLemmatizer()\n",
    "    tokens = [lemmatizer.lemmatize(token) for token in tokens]\n",
    "\n",
    "    # Reconstruct the preprocessed text\n",
    "    preprocessed_text = \" \".join(tokens)\n",
    "    return preprocessed_text\n",
    "\n",
    "def calculate_similarity(job_description, resumes):\n",
    "    # Preprocess job description\n",
    "    preprocessed_job_description = preprocess_text(job_description)\n",
    "\n",
    "    # Preprocess candidate resumes\n",
    "    preprocessed_resumes = [preprocess_text(resume) for resume in resumes]\n",
    "\n",
    "    # Create TF-IDF vectorizer\n",
    "    vectorizer = TfidfVectorizer()\n",
    "\n",
    "    # Vectorize job description and candidate resumes\n",
    "    job_vec = vectorizer.fit_transform([preprocessed_job_description])\n",
    "    resume_vecs = vectorizer.transform(preprocessed_resumes)\n",
    "\n",
    "    # Calculate cosine similarity between job description and candidate resumes\n",
    "    similarity_scores = []\n",
    "    for resume_vec in resume_vecs:\n",
    "        similarity_score = (job_vec * resume_vec.T).toarray()[0][0]\n",
    "        similarity_scores.append(similarity_score)\n",
    "\n",
    "    return similarity_scores\n",
    "\n",
    "# Example usage\n",
    "job_description = \"We are looking for a highly motivated candidate with strong programming and communication skills.\"\n",
    "candidate_resumes = [\n",
    "    \"I have excellent programming and communication skills.\",\n",
    "    \"I am a hardworking individual with experience in programming.\",\n",
    "    \"My communication skills are top-notch, and I enjoy working in a team.\"\n",
    "]\n",
    "\n",
    "similarity_scores = calculate_similarity(job_description, candidate_resumes)\n",
    "\n",
    "# Find the index of the most similar resume\n",
    "best_candidate_index = similarity_scores.index(max(similarity_scores))\n",
    "best_candidate = candidate_resumes[best_candidate_index]\n",
    "\n",
    "print(\"Best candidate: \", best_candidate)"
   ]
  },
  {
   "cell_type": "code",
   "execution_count": null,
   "id": "55761023",
   "metadata": {},
   "outputs": [],
   "source": []
  }
 ],
 "metadata": {
  "kernelspec": {
   "display_name": "Python 3 (ipykernel)",
   "language": "python",
   "name": "python3"
  },
  "language_info": {
   "codemirror_mode": {
    "name": "ipython",
    "version": 3
   },
   "file_extension": ".py",
   "mimetype": "text/x-python",
   "name": "python",
   "nbconvert_exporter": "python",
   "pygments_lexer": "ipython3",
   "version": "3.9.13"
  }
 },
 "nbformat": 4,
 "nbformat_minor": 5
}
